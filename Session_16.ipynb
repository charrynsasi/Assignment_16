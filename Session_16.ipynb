{
 "cells": [
  {
   "cell_type": "markdown",
   "metadata": {},
   "source": [
    "Problem Statement 1:\n",
    "A test is conducted which is consisting of 20 MCQs (multiple choices questions) with\n",
    "every MCQ having its four options out of which only one is correct. Determine the\n",
    "probability that a person undertaking that test has answered exactly 5 questions wrong."
   ]
  },
  {
   "cell_type": "code",
   "execution_count": 62,
   "metadata": {},
   "outputs": [],
   "source": [
    "#The probality of answering exactly 5 questions wrong means the probability of getting exactly 15 corrects questions\n",
    "#The probability of success and failling in each question is 1/4 and 3/4 respectively. \n",
    "#Therefore, probability of getting exactly 15 corrects questions is Choose(20,15) * (1/4)^15 * (3/4)^5\n",
    "\n",
    "from math import factorial,pow\n",
    "\n",
    "p=factorial(20)/(factorial(15)*factorial(5))*pow(1/4,15)*pow(3/4,5)\n",
    "\n",
    "#Choose(20,15) is the number of ways you can choose the 15 corrects questions out of the 20 total questions."
   ]
  },
  {
   "cell_type": "code",
   "execution_count": 64,
   "metadata": {},
   "outputs": [
    {
     "name": "stdout",
     "output_type": "stream",
     "text": [
      "The probability is 0.00034264958230778575 %\n"
     ]
    }
   ],
   "source": [
    "print('The probability is {} %'.format(p*100))"
   ]
  },
  {
   "cell_type": "markdown",
   "metadata": {},
   "source": [
    "Problem Statement 2:\n",
    "A die marked A to E is rolled 50 times. Find the probability of getting a “D” exactly 5\n",
    "times."
   ]
  },
  {
   "cell_type": "code",
   "execution_count": 65,
   "metadata": {},
   "outputs": [],
   "source": [
    "#The probability of each arrangement is (1/5)^5 * (4/5)^45\n",
    "#Therefore, the probability that one of them occurs is Choose(50,5) * (1/5)^5 * (4/5)^45\n",
    "\n",
    "p=factorial(50)/(factorial(45)*factorial(5))*pow(1/5,5)*pow(4/5,45)"
   ]
  },
  {
   "cell_type": "code",
   "execution_count": 66,
   "metadata": {},
   "outputs": [
    {
     "name": "stdout",
     "output_type": "stream",
     "text": [
      "The probability is 2.9531204310524295 %\n"
     ]
    }
   ],
   "source": [
    "print('The probability is {} %'.format(p*100))"
   ]
  },
  {
   "cell_type": "markdown",
   "metadata": {},
   "source": [
    "Problem Statement 3:\n",
    "Two balls are drawn at random in succession without replacement from an urn\n",
    "containing 4 red balls and 6 black balls.\n",
    "Find the probabilities of all the possible outcomes."
   ]
  },
  {
   "cell_type": "code",
   "execution_count": null,
   "metadata": {},
   "outputs": [],
   "source": [
    "#Let's determine the probabilities of the events.\n",
    "\n",
    "  events           Probability\n",
    "    RR          (4/10)(3/9) = 2/15\n",
    "    RB          (4/10)(6/9) = 4/15\n",
    "    BR          (6/10)(4/9) = 4/15 \n",
    "    BB          (6/10)(5/9) = 1/3\n",
    "    \n",
    "The probability of 0 black balls (RR) is 2/15\n",
    "The probability of 1 black ball is (RB or BR) is 4/15+4/15 = 8/15\n",
    "The probability of 2 black balls (BB) is 1/3"
   ]
  }
 ],
 "metadata": {
  "kernelspec": {
   "display_name": "Python 3",
   "language": "python",
   "name": "python3"
  },
  "language_info": {
   "codemirror_mode": {
    "name": "ipython",
    "version": 3
   },
   "file_extension": ".py",
   "mimetype": "text/x-python",
   "name": "python",
   "nbconvert_exporter": "python",
   "pygments_lexer": "ipython3",
   "version": "3.7.0"
  }
 },
 "nbformat": 4,
 "nbformat_minor": 2
}
